{
 "cells": [
  {
   "cell_type": "markdown",
   "metadata": {},
   "source": [
    "Simple function which will plot, in order, the correlation between a feature and it's impact on the classifier\n",
    "\n",
    "Accepts 2 parameters:\n",
    "- model: the trained model\n",
    "- X_train: the data used to train the model"
   ]
  },
  {
   "cell_type": "code",
   "execution_count": 1,
   "metadata": {
    "collapsed": true
   },
   "outputs": [],
   "source": [
    "def logistic_regression_feature_correlation(model, X_train):\n",
    "    coeff_df = pd.DataFrame(X_train.columns)\n",
    "    coeff_df.columns = ['Feature']\n",
    "    coeff_df[\"Correlation\"] = pd.Series(model.coef_[0])\n",
    "\n",
    "    coeff_df.sort_values(by='Correlation', ascending=False)"
   ]
  }
 ],
 "metadata": {
  "anaconda-cloud": {},
  "kernelspec": {
   "display_name": "Python [conda env:py35]",
   "language": "python",
   "name": "conda-env-py35-py"
  },
  "language_info": {
   "codemirror_mode": {
    "name": "ipython",
    "version": 3
   },
   "file_extension": ".py",
   "mimetype": "text/x-python",
   "name": "python",
   "nbconvert_exporter": "python",
   "pygments_lexer": "ipython3",
   "version": "3.5.2"
  }
 },
 "nbformat": 4,
 "nbformat_minor": 1
}
